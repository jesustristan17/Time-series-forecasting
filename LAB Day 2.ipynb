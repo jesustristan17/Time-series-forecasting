{
 "cells": [
  {
   "cell_type": "code",
   "execution_count": 1,
   "id": "5fa11d50-a159-4da1-9cd9-fd6a447636e4",
   "metadata": {},
   "outputs": [
    {
     "name": "stdout",
     "output_type": "stream",
     "text": [
      "ADF Statistic: 2.0310096011589898\n",
      "p-value: 0.998711914789444\n",
      "Critical Values: {'1%': -6.045114, '5%': -3.9292800000000003, '10%': -2.98681}\n",
      "The series is not stationary.\n"
     ]
    }
   ],
   "source": [
    "#LAB DAY 2\n",
    "import numpy as np\n",
    "import pandas as pd\n",
    "\n",
    "# Sample non-stationary data\n",
    "data = np.array([3, 5, 7, 10, 12, 15, 18])\n",
    "\n",
    "# Step 1: Check if data is stationary\n",
    "from statsmodels.tsa.stattools import adfuller\n",
    "\n",
    "# Perform ADF test\n",
    "result = adfuller(data)\n",
    "print('ADF Statistic:', result[0])\n",
    "print('p-value:', result[1])\n",
    "print('Critical Values:', result[4])\n",
    "\n",
    "if result[1] < 0.05:\n",
    "    print(\"The series is stationary.\")\n",
    "else:\n",
    "    print(\"The series is not stationary.\")"
   ]
  },
  {
   "cell_type": "code",
   "execution_count": 3,
   "id": "9df7b3bf-700d-4c7b-8892-14c6b5bd9378",
   "metadata": {},
   "outputs": [
    {
     "name": "stdout",
     "output_type": "stream",
     "text": [
      "[2 2 3 2 3 3]\n",
      "ADF Statistic: -2.049390153191919\n",
      "p-value: 0.2653455829431059\n",
      "Critical Values: {'1%': -6.045114, '5%': -3.9292800000000003, '10%': -2.98681}\n",
      "The series is not stationary.\n"
     ]
    }
   ],
   "source": [
    "# Differencing\n",
    "\n",
    "dif_data=np.diff(data)\n",
    "\n",
    "print(dif_data)\n",
    "\n",
    "# Perform ADF test (differencing)\n",
    "result = adfuller(dif_data)\n",
    "print('ADF Statistic:', result[0])\n",
    "print('p-value:', result[1])\n",
    "print('Critical Values:', result[4])\n",
    "\n",
    "if result[1] < 0.05:\n",
    "    print(\"The series is stationary.\")\n",
    "else:\n",
    "    print(\"The series is not stationary.\")"
   ]
  },
  {
   "cell_type": "code",
   "execution_count": 4,
   "id": "f8f97e91-01bc-4f16-9699-ff0f6aa43d9d",
   "metadata": {},
   "outputs": [
    {
     "name": "stdout",
     "output_type": "stream",
     "text": [
      "Log transformed data: [1.09861229 1.60943791 1.94591015 2.30258509 2.48490665 2.7080502\n",
      " 2.89037176]\n",
      "ADF Statistic: -3.4431031885527505\n",
      "p-value: 0.009574363933006994\n",
      "Critical Values: {'1%': -6.045114, '5%': -3.9292800000000003, '10%': -2.98681}\n",
      "The series is stationary.\n"
     ]
    }
   ],
   "source": [
    "# Log tranformacion\n",
    "\n",
    "log_data = np.log(data)\n",
    "\n",
    "print(\"Log transformed data:\", log_data)\n",
    "\n",
    "# Perform ADF test \n",
    "\n",
    "result = adfuller(log_data)\n",
    "print('ADF Statistic:', result[0])\n",
    "print('p-value:', result[1])\n",
    "print('Critical Values:', result[4])\n",
    "\n",
    "if result[1] < 0.05:\n",
    "    print(\"The series is stationary.\")\n",
    "else:\n",
    "    print(\"The series is not stationary.\")"
   ]
  },
  {
   "cell_type": "code",
   "execution_count": 5,
   "id": "a62718b8-49aa-44de-9515-64da17a00ac2",
   "metadata": {},
   "outputs": [
    {
     "name": "stdout",
     "output_type": "stream",
     "text": [
      "[1.7320508075688772, 2.23606797749979, 2.6457513110645907, 3.1622776601683795, 3.4641016151377544, 3.872983346207417, 4.242640687119285]\n",
      "ADF Statistic: -1.8082055558194752\n",
      "p-value: 0.37639554004696496\n",
      "Critical Values: {'1%': -6.045114, '5%': -3.9292800000000003, '10%': -2.98681}\n",
      "The series is not stationary.\n"
     ]
    }
   ],
   "source": [
    "# Root square transformation \n",
    "\n",
    "import math\n",
    "\n",
    "\n",
    "def sqrt_transformation(data):\n",
    "    return [math.sqrt(value) for value in data]\n",
    "\n",
    "# Apply square root transformation\n",
    "sqrt_data = sqrt_transformation(data)\n",
    "print(sqrt_data) \n",
    "\n",
    "# Perform ADF test \n",
    "\n",
    "result = adfuller(sqrt_data)\n",
    "print('ADF Statistic:', result[0])\n",
    "print('p-value:', result[1])\n",
    "print('Critical Values:', result[4])\n",
    "\n",
    "if result[1] < 0.05:\n",
    "    print(\"The series is stationary.\")\n",
    "else:\n",
    "    print(\"The series is not stationary.\")"
   ]
  },
  {
   "cell_type": "code",
   "execution_count": 7,
   "id": "c0486284-f995-4a91-b5a0-713e85b28846",
   "metadata": {},
   "outputs": [
    {
     "name": "stdout",
     "output_type": "stream",
     "text": [
      "actual data [ 3  5  7 10 12 15 18]\n",
      "Detrended data: [ 5.00000000e-01 -1.77635684e-15 -5.00000000e-01  0.00000000e+00\n",
      " -5.00000000e-01  0.00000000e+00  5.00000000e-01]\n"
     ]
    }
   ],
   "source": [
    "#Detendring\n",
    "from sklearn import linear_model\n",
    "\n",
    "time = np.arange(len(data)).reshape(-1, 1)\n",
    "\n",
    "# Fit linear regression\n",
    "model = linear_model.LinearRegression().fit(time, data)\n",
    "trend = model.predict(time)\n",
    "\n",
    "# Detrended data\n",
    "detrended_data = data - trend\n",
    "\n",
    "print(\"actual data\",data)\n",
    "print(\"Detrended data:\", detrended_data)"
   ]
  },
  {
   "cell_type": "code",
   "execution_count": 8,
   "id": "80c13c47-e81f-40bf-ac3f-994d733c6481",
   "metadata": {},
   "outputs": [
    {
     "name": "stdout",
     "output_type": "stream",
     "text": [
      "ADF Statistic: -2.121320343559633\n",
      "p-value: 0.23602844719312466\n",
      "Critical Values: {'1%': -5.354256481481482, '5%': -3.6462381481481483, '10%': -2.901197777777778}\n",
      "The series is not stationary.\n"
     ]
    }
   ],
   "source": [
    "# Perform ADF test for detrended data\n",
    "\n",
    "result = adfuller(detrended_data)\n",
    "print('ADF Statistic:', result[0])\n",
    "print('p-value:', result[1])\n",
    "print('Critical Values:', result[4])\n",
    "\n",
    "if result[1] < 0.05:\n",
    "    print(\"The series is stationary.\")\n",
    "else:\n",
    "    print(\"The series is not stationary.\")"
   ]
  },
  {
   "cell_type": "code",
   "execution_count": 10,
   "id": "23072e42-9769-4a3c-9028-2eeb46ca389d",
   "metadata": {},
   "outputs": [
    {
     "name": "stdout",
     "output_type": "stream",
     "text": [
      "Seasonally differenced data: [7 7 8 8]\n",
      "ADF Statistic: -2.121320343559633\n",
      "p-value: 0.23602844719312466\n",
      "Critical Values: {'1%': -5.354256481481482, '5%': -3.6462381481481483, '10%': -2.901197777777778}\n",
      "The series is not stationary.\n"
     ]
    }
   ],
   "source": [
    "# Seasonal differencing (seasonal period = 3)\n",
    "seasonal_diff_data = data[3:] - data[:-3]\n",
    "\n",
    "print(\"Seasonally differenced data:\", seasonal_diff_data)\n",
    "\n",
    "# Perform ADF test\n",
    "\n",
    "result = adfuller(detrended_data)\n",
    "print('ADF Statistic:', result[0])\n",
    "print('p-value:', result[1])\n",
    "print('Critical Values:', result[4])\n",
    "\n",
    "if result[1] < 0.05:\n",
    "    print(\"The series is stationary.\")\n",
    "else:\n",
    "    print(\"The series is not stationary.\")"
   ]
  },
  {
   "cell_type": "code",
   "execution_count": 14,
   "id": "d4961be0-543a-48a4-8e0a-1e140e122843",
   "metadata": {},
   "outputs": [
    {
     "name": "stdout",
     "output_type": "stream",
     "text": [
      "detrended data: [ 5.00000000e-01 -1.77635684e-15 -5.00000000e-01  0.00000000e+00\n",
      " -5.00000000e-01  0.00000000e+00  5.00000000e-01]\n",
      "first order differenced detrended data: [-0.5 -0.5  0.5 -0.5  0.5  0.5]\n"
     ]
    }
   ],
   "source": [
    "# combining detrending and seasonal differencing\n",
    "\n",
    "# Step 1: detrending\n",
    "time = np.arange(len(data)).reshape(-1, 1)\n",
    "\n",
    "# Fit linear regression\n",
    "model = linear_model.LinearRegression().fit(time, data)\n",
    "trend = model.predict(time)\n",
    "\n",
    "# Detrended data\n",
    "detrended_data = data - trend\n",
    "\n",
    "\n",
    "# Step 2: seasonal differencing (n=3)\n",
    "diff_data2 = np.diff(detrended_data)\n",
    "\n",
    "print(\"detrended data:\", detrended_data)\n",
    "print(\"first order differenced detrended data:\", diff_data2)\n",
    "\n"
   ]
  },
  {
   "cell_type": "code",
   "execution_count": 15,
   "id": "d297d523-5f19-4297-ad1c-f1ac50b5fad2",
   "metadata": {},
   "outputs": [
    {
     "name": "stdout",
     "output_type": "stream",
     "text": [
      "ADF Statistic: -2.049390153191916\n",
      "p-value: 0.2653455829431072\n",
      "Critical Values: {'1%': -6.045114, '5%': -3.9292800000000003, '10%': -2.98681}\n",
      "The series is not stationary.\n"
     ]
    }
   ],
   "source": [
    "# Perform ADF test\n",
    "\n",
    "result = adfuller(diff_data2)\n",
    "print('ADF Statistic:', result[0])\n",
    "print('p-value:', result[1])\n",
    "print('Critical Values:', result[4])\n",
    "\n",
    "if result[1] < 0.05:\n",
    "    print(\"The series is stationary.\")\n",
    "else:\n",
    "    print(\"The series is not stationary.\")"
   ]
  },
  {
   "cell_type": "code",
   "execution_count": null,
   "id": "0a2deb4b-e5fa-4660-9c8f-8aa4c743c41f",
   "metadata": {},
   "outputs": [],
   "source": [
    "#Result: Only log transformatiosn work to transfor this data to stationary."
   ]
  }
 ],
 "metadata": {
  "kernelspec": {
   "display_name": "Python 3 (ipykernel)",
   "language": "python",
   "name": "python3"
  },
  "language_info": {
   "codemirror_mode": {
    "name": "ipython",
    "version": 3
   },
   "file_extension": ".py",
   "mimetype": "text/x-python",
   "name": "python",
   "nbconvert_exporter": "python",
   "pygments_lexer": "ipython3",
   "version": "3.12.3"
  }
 },
 "nbformat": 4,
 "nbformat_minor": 5
}
