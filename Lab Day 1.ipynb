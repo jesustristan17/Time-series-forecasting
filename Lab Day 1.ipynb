{
 "cells": [
  {
   "cell_type": "code",
   "execution_count": 13,
   "id": "e085b60d-8d21-4288-ac92-c3bc2f2fc607",
   "metadata": {},
   "outputs": [
    {
     "name": "stdout",
     "output_type": "stream",
     "text": [
      "0          NaN\n",
      "1          NaN\n",
      "2     5.333333\n",
      "3     8.333333\n",
      "4     9.000000\n",
      "5     9.666667\n",
      "6     7.666667\n",
      "7     8.333333\n",
      "8     8.000000\n",
      "9    11.000000\n",
      "dtype: float64\n",
      "0      NaN\n",
      "1      NaN\n",
      "2      NaN\n",
      "3    17.25\n",
      "4    20.00\n",
      "5    21.25\n",
      "6    21.75\n",
      "7    23.50\n",
      "8    24.50\n",
      "9    25.75\n",
      "dtype: float64\n",
      "0     NaN\n",
      "1     NaN\n",
      "2     NaN\n",
      "3     NaN\n",
      "4     5.0\n",
      "5     7.0\n",
      "6     9.0\n",
      "7    11.0\n",
      "8    13.0\n",
      "9    15.0\n",
      "dtype: float64\n"
     ]
    }
   ],
   "source": [
    "import numpy as np\n",
    "import pandas as pd\n",
    "\n",
    "window_size1 = 3  # set window size for moving average\n",
    "window_size2 = 4  # set window size for moving average\n",
    "window_size3 = 5  # set window size for moving average\n",
    "\n",
    "data1=np.array([3,5,8,12,7,10,6,9,9,15])\n",
    "data2=np.array([10,18,22,19,21,23,24,26,25,28])\n",
    "data3=np.array([1,3,5,7,9,11,13,15,17,19])\n",
    "\n",
    "#convert to data series\n",
    "data1_series = pd.Series(data1)\n",
    "data2_series = pd.Series(data2)\n",
    "data3_series = pd.Series(data3)\n",
    "\n",
    "# Calculate moving average\n",
    "\n",
    "Moving_avg1=data1_series.rolling(window=window_size1).mean()\n",
    "Moving_avg2=data2_series.rolling(window=window_size2).mean()\n",
    "Moving_avg3=data3_series.rolling(window=window_size3).mean()\n",
    "\n",
    "pd.set_option('display.max_rows', None)\n",
    "\n",
    "print(Moving_avg1)\n",
    "print(Moving_avg2)\n",
    "print(Moving_avg3)"
   ]
  },
  {
   "cell_type": "code",
   "execution_count": 15,
   "id": "2fe00c85-1a32-4a84-a3f7-1ec4dc067ab4",
   "metadata": {},
   "outputs": [
    {
     "name": "stdout",
     "output_type": "stream",
     "text": [
      "    Year  Attrition Rate\n",
      "0   2011              10\n",
      "1   2012              11\n",
      "2   2013              12\n",
      "3   2014              13\n",
      "4   2015              15\n",
      "5   2016              17\n",
      "6   2017              18\n",
      "7   2018              20\n",
      "8   2019              22\n",
      "9   2020              23\n",
      "10  2021              25\n",
      "11  2022              27\n",
      "12  2023              28\n"
     ]
    }
   ],
   "source": [
    "#Import attrition dataset\n",
    "\n",
    "attrition_data= pd.read_csv('C:/Users/jesus/OneDrive/Documentos/attrition_data.csv')  \n",
    "print(attrition_data)"
   ]
  },
  {
   "cell_type": "code",
   "execution_count": 16,
   "id": "2694b6d7-6518-4666-a696-666c1e090254",
   "metadata": {},
   "outputs": [],
   "source": [
    "att_rate=attrition_data[\"Attrition Rate\"]"
   ]
  },
  {
   "cell_type": "code",
   "execution_count": 17,
   "id": "30b839f9-28f0-4003-98d4-788dd994bf36",
   "metadata": {},
   "outputs": [
    {
     "name": "stdout",
     "output_type": "stream",
     "text": [
      "0     10\n",
      "1     11\n",
      "2     12\n",
      "3     13\n",
      "4     15\n",
      "5     17\n",
      "6     18\n",
      "7     20\n",
      "8     22\n",
      "9     23\n",
      "10    25\n",
      "11    27\n",
      "12    28\n",
      "Name: Attrition Rate, dtype: int64\n"
     ]
    }
   ],
   "source": [
    "print (att_rate)"
   ]
  },
  {
   "cell_type": "code",
   "execution_count": 19,
   "id": "90b4989b-cb11-46ba-8083-6ed5986c28ea",
   "metadata": {},
   "outputs": [
    {
     "name": "stdout",
     "output_type": "stream",
     "text": [
      "ADF Statistic: -0.6423640548375108\n",
      "p-value: 0.8611193437632665\n",
      "Critical Values: {'1%': -4.473135048010974, '5%': -3.28988060356653, '10%': -2.7723823456790124}\n",
      "The series is not stationary.\n"
     ]
    }
   ],
   "source": [
    "import pandas as pd\n",
    "import numpy as np\n",
    "import matplotlib.pyplot as plt\n",
    "import statsmodels\n",
    "from statsmodels.tsa.stattools import adfuller\n",
    "\n",
    "# Perform ADF test\n",
    "result = adfuller(att_rate)\n",
    "print('ADF Statistic:', result[0])\n",
    "print('p-value:', result[1])\n",
    "print('Critical Values:', result[4])\n",
    "\n",
    "if result[1] < 0.05:\n",
    "    print(\"The series is stationary.\")\n",
    "else:\n",
    "    print(\"The series is not stationary.\")"
   ]
  },
  {
   "cell_type": "code",
   "execution_count": null,
   "id": "9bb62d4e-ee76-42a9-aed6-c914a7547b3f",
   "metadata": {},
   "outputs": [],
   "source": []
  }
 ],
 "metadata": {
  "kernelspec": {
   "display_name": "Python 3 (ipykernel)",
   "language": "python",
   "name": "python3"
  },
  "language_info": {
   "codemirror_mode": {
    "name": "ipython",
    "version": 3
   },
   "file_extension": ".py",
   "mimetype": "text/x-python",
   "name": "python",
   "nbconvert_exporter": "python",
   "pygments_lexer": "ipython3",
   "version": "3.12.3"
  }
 },
 "nbformat": 4,
 "nbformat_minor": 5
}
